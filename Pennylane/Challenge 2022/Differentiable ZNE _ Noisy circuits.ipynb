{
 "cells": [
  {
   "cell_type": "code",
   "execution_count": 1,
   "id": "4bbde6c0",
   "metadata": {},
   "outputs": [
    {
     "data": {
      "text/plain": [
       "'\\nPennylane Challenge 2022\\nDifferentiable ZNE: Noisy circuits\\n\\nAuthor: Udaya K Tejwani and Aditya Tejwani\\nDate: 3rd November, 2022\\n'"
      ]
     },
     "execution_count": 1,
     "metadata": {},
     "output_type": "execute_result"
    }
   ],
   "source": [
    "\"\"\"\n",
    "Pennylane Challenge 2022\n",
    "Differentiable ZNE: Noisy circuits\n",
    "\n",
    "Author: Udaya K Tejwani and Aditya Tejwani\n",
    "Date: 3rd November, 2022\n",
    "\"\"\""
   ]
  },
  {
   "cell_type": "code",
   "execution_count": 2,
   "id": "daf42c90",
   "metadata": {},
   "outputs": [
    {
     "name": "stderr",
     "output_type": "stream",
     "text": [
      "C:\\Users\\Udaya-PC\\.conda\\envs\\Pennylane\\lib\\site-packages\\numpy\\_distributor_init.py:30: UserWarning: loaded more than 1 DLL from .libs:\n",
      "C:\\Users\\Udaya-PC\\.conda\\envs\\Pennylane\\lib\\site-packages\\numpy\\.libs\\libopenblas.EL2C6PLE4ZYW3ECEVIV3OXXGRN2NRFM2.gfortran-win_amd64.dll\n",
      "C:\\Users\\Udaya-PC\\.conda\\envs\\Pennylane\\lib\\site-packages\\numpy\\.libs\\libopenblas.GK7GX5KEQ4F6UYO3P26ULGBQYHGQO7J4.gfortran-win_amd64.dll\n",
      "  warnings.warn(\"loaded more than 1 DLL from .libs:\"\n",
      "C:\\Users\\Udaya-PC\\.conda\\envs\\Pennylane\\lib\\site-packages\\_distutils_hack\\__init__.py:33: UserWarning: Setuptools is replacing distutils.\n",
      "  warnings.warn(\"Setuptools is replacing distutils.\")\n"
     ]
    }
   ],
   "source": [
    "import functools\n",
    "import json\n",
    "import math\n",
    "import pandas as pd\n",
    "import pennylane as qml\n",
    "import pennylane.numpy as np\n",
    "import scipy"
   ]
  },
  {
   "cell_type": "code",
   "execution_count": 3,
   "id": "0b7fe47b",
   "metadata": {},
   "outputs": [],
   "source": [
    "dev = qml.device(\"default.mixed\", wires=2)\n",
    "\n",
    "@qml.qnode(dev)\n",
    "def circuit():\n",
    "    \"\"\"An error-less quantum circuit.\n",
    "\n",
    "    Returns:\n",
    "        qml.state():\n",
    "            The quantum state.\n",
    "    \"\"\"\n",
    "    qml.Hadamard(wires=0)\n",
    "    qml.CNOT(wires=[0, 1])\n",
    "    return qml.state()"
   ]
  },
  {
   "cell_type": "code",
   "execution_count": 4,
   "id": "e3fc98e2",
   "metadata": {},
   "outputs": [],
   "source": [
    "@qml.qnode(dev)\n",
    "def bitflip_circuit(p):\n",
    "    \"\"\"A quantum circuit that contains two bitflip errors.\n",
    "    It is the same circuit as the one above, but with bitflip errors.\n",
    "\n",
    "    Args:\n",
    "        p (float):\n",
    "            The bitflip probability.\n",
    "\n",
    "    Returns:\n",
    "        qml.state():\n",
    "            The quantum state.\n",
    "    \"\"\"\n",
    "    # Put your code here #\n",
    "    qml.Hadamard(wires=0)\n",
    "    qml.CNOT(wires=[0, 1])\n",
    "    qml.BitFlip(p, wires=0)\n",
    "    qml.BitFlip(p, wires=1)\n",
    "\n",
    "    return qml.state()"
   ]
  },
  {
   "cell_type": "code",
   "execution_count": 5,
   "id": "109e8f24",
   "metadata": {},
   "outputs": [],
   "source": [
    "def fidelities(probs):\n",
    "    fids = np.zeros(len(probs))\n",
    "    for i, p in enumerate(probs):\n",
    "        fid = qml.math.fidelity(bitflip_circuit(p), circuit())\n",
    "        fids[i] = fid\n",
    "    return np.round_(fids, decimals=5).tolist()"
   ]
  },
  {
   "cell_type": "code",
   "execution_count": 6,
   "id": "f109343b",
   "metadata": {},
   "outputs": [],
   "source": [
    "# These functions are responsible for testing the solution.\n",
    "\n",
    "def run(test_case_input: str) -> str:\n",
    "    probs = json.loads(test_case_input)\n",
    "    fids = fidelities(probs)\n",
    "    return str(fids)\n",
    "\n",
    "def check(solution_output: str, expected_output: str) -> None:\n",
    "    solution_output = json.loads(solution_output)\n",
    "    expected_output = json.loads(expected_output)\n",
    "    assert np.allclose(\n",
    "        solution_output, expected_output, rtol=1e-4\n",
    "    ), \"Your circuit isn't quite right!\""
   ]
  },
  {
   "cell_type": "code",
   "execution_count": 7,
   "id": "a5b6b40d",
   "metadata": {},
   "outputs": [],
   "source": [
    "test_cases = [['[0.05, 0.1, 0.15, 0.2, 0.25]', '[0.905, 0.82, 0.745, 0.68, 0.625]']]"
   ]
  },
  {
   "cell_type": "code",
   "execution_count": 8,
   "id": "8ce13cda",
   "metadata": {},
   "outputs": [
    {
     "name": "stdout",
     "output_type": "stream",
     "text": [
      "Running test case 0 with input '[0.05, 0.1, 0.15, 0.2, 0.25]'...\n",
      "Runtime Error. module 'numpy' has no attribute 'fidelity'\n"
     ]
    }
   ],
   "source": [
    "for i, (input_, expected_output) in enumerate(test_cases):\n",
    "    print(f\"Running test case {i} with input '{input_}'...\")\n",
    "\n",
    "    try:\n",
    "        output = run(input_)\n",
    "\n",
    "    except Exception as exc:\n",
    "        print(f\"Runtime Error. {exc}\")\n",
    "\n",
    "    else:\n",
    "        if message := check(output, expected_output):\n",
    "            print(f\"Wrong Answer. Have: '{output}'. Want: '{expected_output}'.\")\n",
    "\n",
    "        else:\n",
    "            print(\"Correct!\")"
   ]
  },
  {
   "cell_type": "code",
   "execution_count": 4,
   "id": "4b134597",
   "metadata": {},
   "outputs": [
    {
     "name": "stdout",
     "output_type": "stream",
     "text": [
      "Collecting numpy==1.22.4\n",
      "  Using cached numpy-1.22.4-cp38-cp38-win_amd64.whl (14.8 MB)\n",
      "Installing collected packages: numpy\n",
      "  Attempting uninstall: numpy\n",
      "    Found existing installation: numpy 1.23.3\n",
      "    Uninstalling numpy-1.23.3:\n",
      "      Successfully uninstalled numpy-1.23.3\n"
     ]
    },
    {
     "name": "stderr",
     "output_type": "stream",
     "text": [
      "ERROR: Could not install packages due to an OSError: [WinError 5] Access is denied: 'C:\\\\Users\\\\Udaya-PC\\\\AppData\\\\Local\\\\Temp\\\\pip-uninstall-dl561xug\\\\core\\\\_multiarray_tests.cp38-win_amd64.pyd'\n",
      "Consider using the `--user` option or check the permissions.\n",
      "\n",
      "WARNING: You are using pip version 21.2.4; however, version 22.3 is available.\n",
      "You should consider upgrading via the 'C:\\Users\\Udaya-PC\\.conda\\envs\\Pennylane\\python.exe -m pip install --upgrade pip' command.\n"
     ]
    }
   ],
   "source": [
    "!pip install numpy==1.22.4"
   ]
  },
  {
   "cell_type": "code",
   "execution_count": null,
   "id": "b2eeeaf6",
   "metadata": {},
   "outputs": [],
   "source": []
  }
 ],
 "metadata": {
  "kernelspec": {
   "display_name": "Python 3 (ipykernel)",
   "language": "python",
   "name": "python3"
  },
  "language_info": {
   "codemirror_mode": {
    "name": "ipython",
    "version": 3
   },
   "file_extension": ".py",
   "mimetype": "text/x-python",
   "name": "python",
   "nbconvert_exporter": "python",
   "pygments_lexer": "ipython3",
   "version": "3.8.10"
  }
 },
 "nbformat": 4,
 "nbformat_minor": 5
}
